{
  "nbformat": 4,
  "nbformat_minor": 0,
  "metadata": {
    "coursera": {
      "course_slug": "convolutional-neural-networks",
      "graded_item_id": "owWbQ",
      "launcher_item_id": "lEthw"
    },
    "kernelspec": {
      "display_name": "Python 3",
      "language": "python",
      "name": "python3"
    },
    "language_info": {
      "codemirror_mode": {
        "name": "ipython",
        "version": 3
      },
      "file_extension": ".py",
      "mimetype": "text/x-python",
      "name": "python",
      "nbconvert_exporter": "python",
      "pygments_lexer": "ipython3",
      "version": "3.6.0"
    },
    "colab": {
      "name": "Art_Generation_with_Neural_Style_Transfer.ipynb",
      "provenance": [],
      "include_colab_link": true
    }
  },
  "cells": [
    {
      "cell_type": "markdown",
      "metadata": {
        "id": "view-in-github",
        "colab_type": "text"
      },
      "source": [
        "<a href=\"https://colab.research.google.com/github/DushyantKhinchi/Novel_art_generation_with_Neural_Style_transfer_using_VGG19_CNN/blob/master/Art_Generation_with_Neural_Style_Transfer.ipynb\" target=\"_parent\"><img src=\"https://colab.research.google.com/assets/colab-badge.svg\" alt=\"Open In Colab\"/></a>"
      ]
    },
    {
      "cell_type": "markdown",
      "metadata": {
        "id": "hbLeUDmMDT3A",
        "colab_type": "text"
      },
      "source": [
        "- Implement the neural style transfer algorithm \n",
        "- Generate novel artistic images using your algorithm \n",
        "\n",
        "Most of the algorithms optimizes a cost function to get a set of parameter values. In Neural Style Transfer, we'll optimize a cost function to get pixel values"
      ]
    },
    {
      "cell_type": "code",
      "metadata": {
        "id": "3XPcKOh_DT3D",
        "colab_type": "code",
        "colab": {}
      },
      "source": [
        "import os\n",
        "import sys\n",
        "import scipy.io\n",
        "import scipy.misc\n",
        "import matplotlib.pyplot as plt\n",
        "from matplotlib.pyplot import imshow\n",
        "from PIL import Image\n",
        "from nst_utils import *\n",
        "import numpy as np\n",
        "import tensorflow as tf\n",
        "import pprint\n",
        "%matplotlib inline"
      ],
      "execution_count": null,
      "outputs": []
    },
    {
      "cell_type": "markdown",
      "metadata": {
        "id": "luuG_g26DT3I",
        "colab_type": "text"
      },
      "source": [
        "Neural Style Transfer (NST) is a techniques in deep learning that merges two images, namely: a **\"content\" image (C) and a \"style\" image (S), to create a \"generated\" image (G**). \n",
        "\n",
        "The generated image G combines the \"content\" of the image C with the \"style\" of image S. "
      ]
    },
    {
      "cell_type": "markdown",
      "metadata": {
        "id": "VnQvInzWDT3J",
        "colab_type": "text"
      },
      "source": [
        "##Transfer Learning\n",
        "\n",
        "Neural Style Transfer (NST) uses a previously trained convolutional network, and builds on top of that. The idea of using a network trained on a different task and applying it to a new task is called transfer learning. \n",
        "\n",
        "We have used the VGG network. Specifically, we'vee use VGG-19, a 19-layer version of the VGG network. This model has already been trained on the very large ImageNet database, and thus has learned to recognize a variety of low level features (at the shallower layers) and high level features (at the deeper layers). "
      ]
    },
    {
      "cell_type": "code",
      "metadata": {
        "id": "Ewe4Wm3gDT3K",
        "colab_type": "code",
        "colab": {}
      },
      "source": [
        "pp = pprint.PrettyPrinter(indent=4)\n",
        "model = load_vgg_model(\"pretrained-model/imagenet-vgg-verydeep-19.mat\")\n",
        "pp.pprint(model)"
      ],
      "execution_count": null,
      "outputs": []
    },
    {
      "cell_type": "markdown",
      "metadata": {
        "id": "u1PZypOzDT3O",
        "colab_type": "text"
      },
      "source": [
        "* The model is stored in a python dictionary.  \n",
        "* The python dictionary contains key-value pairs for each layer.  \n",
        "* The 'key' is the variable name and the 'value' is a tensor for that layer. \n",
        "\n",
        "#### Assign input image to the model's input layer\n",
        "To run an image through this network, you just have to feed the image to the model. In TensorFlow, you can do so using the [tf.assign](https://www.tensorflow.org/api_docs/python/tf/assign) function. In particular, you will use the assign function like this:  \n",
        "```python\n",
        "model[\"input\"].assign(image)\n",
        "```\n",
        "This assigns the image as an input to the model. \n",
        "\n",
        "#### Activate a layer\n",
        "After this, if you want to access the activations of a particular layer, say layer `4_2` when the network is run on this image, you would run a TensorFlow session on the correct tensor `conv4_2`, as follows:  \n",
        "```python\n",
        "sess.run(model[\"conv4_2\"])\n",
        "```"
      ]
    },
    {
      "cell_type": "markdown",
      "metadata": {
        "id": "zfy8PXjlDT3P",
        "colab_type": "text"
      },
      "source": [
        "##Neural Style Transfer (NST)\n",
        "\n",
        "We will build the Neural Style Transfer (NST) algorithm in three steps:\n",
        "\n",
        "- Build the content cost function $J_{content}(C,G)$\n",
        "- Build the style cost function $J_{style}(S,G)$\n",
        "- Put it together to get $J(G) = \\alpha J_{content}(C,G) + \\beta J_{style}(S,G)$. \n",
        "\n",
        "###Computing the content cost\n",
        "\n",
        "In our running example, the content image C will be the picture of the Louvre Museum in Paris."
      ]
    },
    {
      "cell_type": "code",
      "metadata": {
        "scrolled": true,
        "id": "plwftbOfDT3Q",
        "colab_type": "code",
        "colab": {}
      },
      "source": [
        "content_image = scipy.misc.imread(\"images/louvre.jpg\")\n",
        "imshow(content_image);"
      ],
      "execution_count": null,
      "outputs": []
    },
    {
      "cell_type": "markdown",
      "metadata": {
        "id": "L62FQsczDT3b",
        "colab_type": "text"
      },
      "source": [
        "The content image (C) shows the Louvre museum's pyramid surrounded by old Paris buildings, against a sunny sky with a few clouds.\n",
        "\n",
        "** 3.1.1 - Make generated image G match the content of image C**\n",
        "\n",
        "#### Shallower versus deeper layers\n",
        "* The shallower layers of a ConvNet tend to detect lower-level features such as edges and simple textures.\n",
        "* The deeper layers tend to detect higher-level features such as more complex textures as well as object classes. \n",
        "\n",
        "#### Choose a \"middle\" activation layer $a^{[l]}$\n",
        "We would like the \"generated\" image G to have similar content as the input image C. Suppose you have chosen some layer's activations to represent the content of an image. \n",
        "* In practice, you'll get the most visually pleasing results if you choose a layer in the **middle** of the network--neither too shallow nor too deep. \n",
        "\n",
        "#### Forward propagate image \"C\"\n",
        "* Set the image C as the input to the pretrained VGG network, and run forward propagation.  \n",
        "* Let $a^{(C)}$ be the hidden layer activations in the layer you had chosen. (In lecture, we had written this as $a^{[l](C)}$, but here we'll drop the superscript $[l]$ to simplify the notation.) This will be an $n_H \\times n_W \\times n_C$ tensor.\n",
        "\n",
        "#### Forward propagate image \"G\"\n",
        "* Repeat this process with the image G: Set G as the input, and run forward progation. \n",
        "* Let $a^{(G)}$ be the corresponding hidden layer activation. \n",
        "\n",
        "#### Content Cost Function $J_{content}(C,G)$\n",
        "We will define the content cost function as:\n",
        "\n",
        "$$J_{content}(C,G) =  \\frac{1}{4 \\times n_H \\times n_W \\times n_C}\\sum _{ \\text{all entries}} (a^{(C)} - a^{(G)})^2\\tag{1} $$\n",
        "\n",
        "* Here, $n_H, n_W$ and $n_C$ are the height, width and number of channels of the hidden layer you have chosen, and appear in a normalization term in the cost. \n",
        "* For clarity, note that $a^{(C)}$ and $a^{(G)}$ are the 3D volumes corresponding to a hidden layer's activations. \n",
        "* In order to compute the cost $J_{content}(C,G)$, it might also be convenient to unroll these 3D volumes into a 2D matrix, as shown below.\n",
        "* Technically this unrolling step isn't needed to compute $J_{content}$, but it will be good practice for when you do need to carry out a similar operation later for computing the style cost $J_{style}$.\n"
      ]
    },
    {
      "cell_type": "code",
      "metadata": {
        "id": "91SbSf2WDT3d",
        "colab_type": "code",
        "colab": {}
      },
      "source": [
        "def compute_content_cost(a_C, a_G):\n",
        "    \"\"\"\n",
        "    Computes the content cost\n",
        "    \n",
        "    Arguments:\n",
        "    a_C -- tensor of dimension (1, n_H, n_W, n_C), hidden layer activations representing content of the image C \n",
        "    a_G -- tensor of dimension (1, n_H, n_W, n_C), hidden layer activations representing content of the image G\n",
        "    \n",
        "    Returns: \n",
        "    J_content -- scalar that you compute using equation 1 above.\n",
        "    \"\"\"\n",
        "    \n",
        "    ### START CODE HERE ###\n",
        "    # Retrieve dimensions from a_G (≈1 line)\n",
        "    m, n_H, n_W, n_C = a_G.get_shape().as_list()\n",
        "    \n",
        "    # Reshape a_C and a_G (≈2 lines)\n",
        "    a_C_unrolled = tf.transpose(tf.reshape(a_C, [n_H*n_W, n_C]))\n",
        "    a_G_unrolled = tf.transpose(tf.reshape(a_G, [n_H*n_W, n_C]))\n",
        "    \n",
        "    # compute the cost with tensorflow (≈1 line)\n",
        "    J_content = (1/(4*n_H*n_W*n_C))*tf.reduce_sum(tf.square(tf.subtract(a_C_unrolled, a_G_unrolled)))\n",
        "    ### END CODE HERE ###\n",
        "    \n",
        "    return J_content"
      ],
      "execution_count": null,
      "outputs": []
    },
    {
      "cell_type": "code",
      "metadata": {
        "id": "vXyfGhgJDT3i",
        "colab_type": "code",
        "colab": {}
      },
      "source": [
        "tf.reset_default_graph()\n",
        "\n",
        "with tf.Session() as test:\n",
        "    tf.set_random_seed(1)\n",
        "    a_C = tf.random_normal([1, 4, 4, 3], mean=1, stddev=4)\n",
        "    a_G = tf.random_normal([1, 4, 4, 3], mean=1, stddev=4)\n",
        "    J_content = compute_content_cost(a_C, a_G)\n",
        "    print(\"J_content = \" + str(J_content.eval()))"
      ],
      "execution_count": null,
      "outputs": []
    },
    {
      "cell_type": "markdown",
      "metadata": {
        "id": "xyFJTZ6WDT3o",
        "colab_type": "text"
      },
      "source": [
        "###Computing the style cost\n"
      ]
    },
    {
      "cell_type": "code",
      "metadata": {
        "id": "pIXEBPLFDT3p",
        "colab_type": "code",
        "colab": {}
      },
      "source": [
        "style_image = scipy.misc.imread(\"images/monet_800600.jpg\")\n",
        "imshow(style_image);"
      ],
      "execution_count": null,
      "outputs": []
    },
    {
      "cell_type": "markdown",
      "metadata": {
        "id": "oEIWraHvDT3u",
        "colab_type": "text"
      },
      "source": [
        "defining a \"style\" cost function $J_{style}(S,G)$. "
      ]
    },
    {
      "cell_type": "markdown",
      "metadata": {
        "id": "RdvtrH8BDT3u",
        "colab_type": "text"
      },
      "source": [
        "###Style matrix\n",
        "\n",
        "#### Gram matrix\n",
        "* The style matrix is also called a \"Gram matrix.\" \n",
        "* In linear algebra, the Gram matrix G of a set of vectors $(v_{1},\\dots ,v_{n})$ is the matrix of dot products, whose entries are ${\\displaystyle G_{ij} = v_{i}^T v_{j} = np.dot(v_{i}, v_{j})  }$. \n",
        "* In other words, $G_{ij}$ compares how similar $v_i$ is to $v_j$: If they are highly similar, you would expect them to have a large dot product, and thus for $G_{ij}$ to be large. \n",
        "\n",
        "#### Two meanings of the variable $G$\n",
        "* Note that there is an unfortunate collision in the variable names used here. We are following common terminology used in the literature. \n",
        "* $G$ is used to denote the Style matrix (or Gram matrix) \n",
        "* $G$ also denotes the generated image. \n",
        "* For this assignment, we will use $G_{gram}$ to refer to the Gram matrix, and $G$ to denote the generated image."
      ]
    },
    {
      "cell_type": "markdown",
      "metadata": {
        "id": "jOQ6DwB6DT3v",
        "colab_type": "text"
      },
      "source": [
        "\n",
        "#### Compute $G_{gram}$\n",
        "In Neural Style Transfer (NST), you can compute the Style matrix by multiplying the \"unrolled\" filter matrix with its transpose:\n",
        "\n",
        "\n",
        "$$\\mathbf{G}_{gram} = \\mathbf{A}_{unrolled} \\mathbf{A}_{unrolled}^T$$\n",
        "\n",
        "#### $G_{(gram)i,j}$: correlation\n",
        "The result is a matrix of dimension $(n_C,n_C)$ where $n_C$ is the number of filters (channels). The value $G_{(gram)i,j}$ measures how similar the activations of filter $i$ are to the activations of filter $j$. \n",
        "\n",
        "#### $G_{(gram),i,i}$: prevalence of patterns or textures\n",
        "* The diagonal elements $G_{(gram)ii}$ measure how \"active\" a filter $i$ is. \n",
        "* For example, suppose filter $i$ is detecting vertical textures in the image. Then $G_{(gram)ii}$ measures how common  vertical textures are in the image as a whole.\n",
        "* If $G_{(gram)ii}$ is large, this means that the image has a lot of vertical texture. \n",
        "\n",
        "\n",
        "By capturing the prevalence of different types of features ($G_{(gram)ii}$), as well as how much different features occur together ($G_{(gram)ij}$), the Style matrix $G_{gram}$ measures the style of an image. "
      ]
    },
    {
      "cell_type": "code",
      "metadata": {
        "id": "3COp7aUBDT3w",
        "colab_type": "code",
        "colab": {}
      },
      "source": [
        "def gram_matrix(A):\n",
        "    \"\"\"\n",
        "    Argument:\n",
        "    A -- matrix of shape (n_C, n_H*n_W)\n",
        "    \n",
        "    Returns:\n",
        "    GA -- Gram matrix of A, of shape (n_C, n_C)\n",
        "    \"\"\"\n",
        "    \n",
        "    ### START CODE HERE ### (≈1 line)\n",
        "    GA = tf.matmul(A, tf.transpose(A))\n",
        "    ### END CODE HERE ###\n",
        "    \n",
        "    return GA"
      ],
      "execution_count": null,
      "outputs": []
    },
    {
      "cell_type": "code",
      "metadata": {
        "id": "KDHmCHgbDT30",
        "colab_type": "code",
        "colab": {}
      },
      "source": [
        "tf.reset_default_graph()\n",
        "\n",
        "with tf.Session() as test:\n",
        "    tf.set_random_seed(1)\n",
        "    A = tf.random_normal([3, 2*1], mean=1, stddev=4)\n",
        "    GA = gram_matrix(A)\n",
        "    \n",
        "    print(\"GA = \\n\" + str(GA.eval()))"
      ],
      "execution_count": null,
      "outputs": []
    },
    {
      "cell_type": "markdown",
      "metadata": {
        "id": "IbmzraPVDT34",
        "colab_type": "text"
      },
      "source": [
        "### 3.2.2 - Style cost"
      ]
    },
    {
      "cell_type": "markdown",
      "metadata": {
        "id": "5QfSwxrBDT35",
        "colab_type": "text"
      },
      "source": [
        "Your goal will be to minimize the distance between the Gram matrix of the \"style\" image S and the gram matrix of the \"generated\" image G. \n",
        "* For now, we are using only a single hidden layer $a^{[l]}$.  \n",
        "* The corresponding style cost for this layer is defined as: \n",
        "\n",
        "$$J_{style}^{[l]}(S,G) = \\frac{1}{4 \\times {n_C}^2 \\times (n_H \\times n_W)^2} \\sum _{i=1}^{n_C}\\sum_{j=1}^{n_C}(G^{(S)}_{(gram)i,j} - G^{(G)}_{(gram)i,j})^2\\tag{2} $$\n",
        "\n",
        "* $G_{gram}^{(S)}$ Gram matrix of the \"style\" image.\n",
        "* $G_{gram}^{(G)}$ Gram matrix of the \"generated\" image.\n",
        "* Remember, this cost is computed using the hidden layer activations for a particular hidden layer in the network $a^{[l]}$\n"
      ]
    },
    {
      "cell_type": "markdown",
      "metadata": {
        "id": "k_USdg27DT36",
        "colab_type": "text"
      },
      "source": [
        "The style cost for a single layer. \n",
        "\n",
        "The 3 steps to implement this function are:\n",
        "1. Retrieve dimensions from the hidden layer activations a_G: \n",
        "    - To retrieve dimensions from a tensor X, use: `X.get_shape().as_list()`\n",
        "2. Unroll the hidden layer activations a_S and a_G into 2D matrices, as explained in the picture above (see the images in the sections \"computing the content cost\" and \"style matrix\").\n",
        "3. Compute the Style matrix of the images S and G. (Use the function you had previously written.) \n",
        "4. Compute the Style cost:"
      ]
    },
    {
      "cell_type": "code",
      "metadata": {
        "id": "dUxaLJ6hDT36",
        "colab_type": "code",
        "colab": {}
      },
      "source": [
        "def compute_layer_style_cost(a_S, a_G):\n",
        "    \"\"\"\n",
        "    Arguments:\n",
        "    a_S -- tensor of dimension (1, n_H, n_W, n_C), hidden layer activations representing style of the image S \n",
        "    a_G -- tensor of dimension (1, n_H, n_W, n_C), hidden layer activations representing style of the image G\n",
        "    \n",
        "    Returns: \n",
        "    J_style_layer -- tensor representing a scalar value, style cost defined above by equation (2)\n",
        "    \"\"\"\n",
        "    \n",
        "    ### START CODE HERE ###\n",
        "    # Retrieve dimensions from a_G (≈1 line)\n",
        "    m, n_H, n_W, n_C = a_G.get_shape().as_list()\n",
        "    \n",
        "    # Reshape the images to have them of shape (n_C, n_H*n_W) (≈2 lines)\n",
        "    a_S = tf.transpose(tf.reshape(a_S, ([n_H*n_W, n_C])))\n",
        "    a_G = tf.transpose(tf.reshape(a_G, ([n_H*n_W, n_C])))\n",
        "\n",
        "    # Computing gram_matrices for both images S and G (≈2 lines)\n",
        "    GS = gram_matrix(a_S)\n",
        "    GG = gram_matrix(a_G)\n",
        "\n",
        "    # Computing the loss (≈1 line)\n",
        "    J_style_layer = 1./(4*n_C**2 *(n_H*n_W)**2)*tf.reduce_sum(tf.pow((GS - GG), 2))\n",
        "    \n",
        "    ### END CODE HERE ###\n",
        "    \n",
        "    return J_style_layer"
      ],
      "execution_count": null,
      "outputs": []
    },
    {
      "cell_type": "code",
      "metadata": {
        "scrolled": false,
        "id": "HZnBIwNkDT3_",
        "colab_type": "code",
        "colab": {}
      },
      "source": [
        "tf.reset_default_graph()\n",
        "\n",
        "with tf.Session() as test:\n",
        "    tf.set_random_seed(1)\n",
        "    a_S = tf.random_normal([1, 4, 4, 3], mean=1, stddev=4)\n",
        "    a_G = tf.random_normal([1, 4, 4, 3], mean=1, stddev=4)\n",
        "    J_style_layer = compute_layer_style_cost(a_S, a_G)\n",
        "    \n",
        "    print(\"J_style_layer = \" + str(J_style_layer.eval()))"
      ],
      "execution_count": null,
      "outputs": []
    },
    {
      "cell_type": "markdown",
      "metadata": {
        "id": "lz3VBqJPDT4D",
        "colab_type": "text"
      },
      "source": [
        "###Style Weights\n",
        "\n",
        "* So far you have captured the style from only one layer. \n",
        "* We'll get better results if we \"merge\" style costs from several different layers. \n",
        "* Each layer will be given weights ($\\lambda^{[l]}$) that reflect how much each layer will contribute to the style.\n",
        "* After completing this exercise, feel free to come back and experiment with different weights to see how it changes the generated image $G$.\n",
        "* By default, we'll give each layer equal weight, and the weights add up to 1.  ($\\sum_{l}^L\\lambda^{[l]} = 1$)"
      ]
    },
    {
      "cell_type": "code",
      "metadata": {
        "id": "3YVM_tDdDT4E",
        "colab_type": "code",
        "colab": {}
      },
      "source": [
        "STYLE_LAYERS = [\n",
        "    ('conv1_1', 0.2),\n",
        "    ('conv2_1', 0.2),\n",
        "    ('conv3_1', 0.2),\n",
        "    ('conv4_1', 0.2),\n",
        "    ('conv5_1', 0.2)]"
      ],
      "execution_count": null,
      "outputs": []
    },
    {
      "cell_type": "markdown",
      "metadata": {
        "id": "egeL39SGDT4I",
        "colab_type": "text"
      },
      "source": [
        "You can combine the style costs for different layers as follows:\n",
        "\n",
        "$$J_{style}(S,G) = \\sum_{l} \\lambda^{[l]} J^{[l]}_{style}(S,G)$$\n",
        "\n",
        "where the values for $\\lambda^{[l]}$ are given in `STYLE_LAYERS`. \n"
      ]
    },
    {
      "cell_type": "markdown",
      "metadata": {
        "id": "O8_uMghTDT4I",
        "colab_type": "text"
      },
      "source": [
        "###compute style cost\n",
        "\n",
        "* We've implemented a compute_style_cost(...) function. \n",
        "* It calls your `compute_layer_style_cost(...)` several times, and weights their results using the values in `STYLE_LAYERS`. \n",
        "* Please read over it to make sure you understand what it's doing. \n",
        "\n",
        "#### Description of `compute_style_cost`\n",
        "For each layer:\n",
        "* Select the activation (the output tensor) of the current layer.\n",
        "* Get the style of the style image \"S\" from the current layer.\n",
        "* Get the style of the generated image \"G\" from the current layer.\n",
        "* Compute the \"style cost\" for the current layer\n",
        "* Add the weighted style cost to the overall style cost (J_style)\n",
        "\n",
        "Once you're done with the loop:  \n",
        "* Return the overall style cost."
      ]
    },
    {
      "cell_type": "code",
      "metadata": {
        "id": "VRTWtNk3DT4J",
        "colab_type": "code",
        "colab": {}
      },
      "source": [
        "def compute_style_cost(model, STYLE_LAYERS):\n",
        "    \"\"\"\n",
        "    Computes the overall style cost from several chosen layers\n",
        "    \n",
        "    Arguments:\n",
        "    model -- our tensorflow model\n",
        "    STYLE_LAYERS -- A python list containing:\n",
        "                        - the names of the layers we would like to extract style from\n",
        "                        - a coefficient for each of them\n",
        "    \n",
        "    Returns: \n",
        "    J_style -- tensor representing a scalar value, style cost defined above by equation (2)\n",
        "    \"\"\"\n",
        "    \n",
        "    # initialize the overall style cost\n",
        "    J_style = 0\n",
        "\n",
        "    for layer_name, coeff in STYLE_LAYERS:\n",
        "\n",
        "        # Select the output tensor of the currently selected layer\n",
        "        out = model[layer_name]\n",
        "\n",
        "        # Set a_S to be the hidden layer activation from the layer we have selected, by running the session on out\n",
        "        a_S = sess.run(out)\n",
        "\n",
        "        # Set a_G to be the hidden layer activation from same layer. Here, a_G references model[layer_name] \n",
        "        # and isn't evaluated yet. Later in the code, we'll assign the image G as the model input, so that\n",
        "        # when we run the session, this will be the activations drawn from the appropriate layer, with G as input.\n",
        "        a_G = out\n",
        "        \n",
        "        # Compute style_cost for the current layer\n",
        "        J_style_layer = compute_layer_style_cost(a_S, a_G)\n",
        "\n",
        "        # Add coeff * J_style_layer of this layer to overall style cost\n",
        "        J_style += coeff * J_style_layer\n",
        "\n",
        "    return J_style"
      ],
      "execution_count": null,
      "outputs": []
    },
    {
      "cell_type": "markdown",
      "metadata": {
        "id": "YjtzvtOgDT4O",
        "colab_type": "text"
      },
      "source": [
        "###Defining the total cost to optimize"
      ]
    },
    {
      "cell_type": "markdown",
      "metadata": {
        "id": "ixneGHyxDT4P",
        "colab_type": "text"
      },
      "source": [
        "Finally, let's create a cost function that minimizes both the style and the content cost. The formula is: \n",
        "\n",
        "$$J(G) = \\alpha J_{content}(C,G) + \\beta J_{style}(S,G)$$"
      ]
    },
    {
      "cell_type": "code",
      "metadata": {
        "id": "4NrI4c7cDT4Q",
        "colab_type": "code",
        "colab": {}
      },
      "source": [
        "def total_cost(J_content, J_style, alpha = 10, beta = 40):\n",
        "    \"\"\"\n",
        "    Computes the total cost function\n",
        "    \n",
        "    Arguments:\n",
        "    J_content -- content cost coded above\n",
        "    J_style -- style cost coded above\n",
        "    alpha -- hyperparameter weighting the importance of the content cost\n",
        "    beta -- hyperparameter weighting the importance of the style cost\n",
        "    \n",
        "    Returns:\n",
        "    J -- total cost as defined by the formula above.\n",
        "    \"\"\"\n",
        "    \n",
        "    ### START CODE HERE ### (≈1 line)\n",
        "    J = alpha * J_content + beta*J_style\n",
        "    ### END CODE HERE ###\n",
        "    \n",
        "    return J"
      ],
      "execution_count": null,
      "outputs": []
    },
    {
      "cell_type": "code",
      "metadata": {
        "id": "tp4BXJ6uDT4U",
        "colab_type": "code",
        "colab": {}
      },
      "source": [
        "tf.reset_default_graph()\n",
        "\n",
        "with tf.Session() as test:\n",
        "    np.random.seed(3)\n",
        "    J_content = np.random.randn()    \n",
        "    J_style = np.random.randn()\n",
        "    J = total_cost(J_content, J_style)\n",
        "    print(\"J = \" + str(J))"
      ],
      "execution_count": null,
      "outputs": []
    },
    {
      "cell_type": "markdown",
      "metadata": {
        "id": "-rQdLaQYDT4Z",
        "colab_type": "text"
      },
      "source": [
        "##Solving the optimization problem"
      ]
    },
    {
      "cell_type": "markdown",
      "metadata": {
        "id": "G2bEjYgODT4e",
        "colab_type": "text"
      },
      "source": [
        "1. Create an Interactive Session\n",
        "2. Load the content image \n",
        "3. Load the style image\n",
        "4. Randomly initialize the image to be generated \n",
        "5. Load the VGG19 model\n",
        "7. Build the TensorFlow graph:\n",
        "    - Run the content image through the VGG19 model and compute the content cost\n",
        "    - Run the style image through the VGG19 model and compute the style cost\n",
        "    - Compute the total cost\n",
        "    - Define the optimizer and the learning rate\n",
        "8. Initialize the TensorFlow graph and run it for a large number of iterations, updating the generated image at every step."
      ]
    },
    {
      "cell_type": "markdown",
      "metadata": {
        "id": "ezPQ5PC0DT4f",
        "colab_type": "text"
      },
      "source": [
        "#### Interactive Sessions\n"
      ]
    },
    {
      "cell_type": "code",
      "metadata": {
        "id": "Eypp2qfBDT4g",
        "colab_type": "code",
        "colab": {}
      },
      "source": [
        "# Reset the graph\n",
        "tf.reset_default_graph()\n",
        "\n",
        "# Start interactive session\n",
        "sess = tf.InteractiveSession()"
      ],
      "execution_count": null,
      "outputs": []
    },
    {
      "cell_type": "markdown",
      "metadata": {
        "id": "iFfqkLsTDT4j",
        "colab_type": "text"
      },
      "source": [
        "#### Content image\n"
      ]
    },
    {
      "cell_type": "code",
      "metadata": {
        "id": "DJsOwYW3DT4k",
        "colab_type": "code",
        "colab": {}
      },
      "source": [
        "content_image = scipy.misc.imread(\"images/louvre_small.jpg\")\n",
        "content_image = reshape_and_normalize_image(content_image)"
      ],
      "execution_count": null,
      "outputs": []
    },
    {
      "cell_type": "markdown",
      "metadata": {
        "id": "MUm6H4EPDT4n",
        "colab_type": "text"
      },
      "source": [
        "#### Style image\n"
      ]
    },
    {
      "cell_type": "code",
      "metadata": {
        "id": "N0Qhq9dIDT4o",
        "colab_type": "code",
        "colab": {}
      },
      "source": [
        "style_image = scipy.misc.imread(\"images/monet.jpg\")\n",
        "style_image = reshape_and_normalize_image(style_image)"
      ],
      "execution_count": null,
      "outputs": []
    },
    {
      "cell_type": "code",
      "metadata": {
        "id": "3aBUKamoDT4s",
        "colab_type": "code",
        "colab": {}
      },
      "source": [
        "generated_image = generate_noise_image(content_image)\n",
        "imshow(generated_image[0]);"
      ],
      "execution_count": null,
      "outputs": []
    },
    {
      "cell_type": "markdown",
      "metadata": {
        "id": "N5abG2YEDT4w",
        "colab_type": "text"
      },
      "source": [
        "#### Load pre-trained VGG19 model\n"
      ]
    },
    {
      "cell_type": "code",
      "metadata": {
        "id": "sYG9MWWpDT4x",
        "colab_type": "code",
        "colab": {}
      },
      "source": [
        "model = load_vgg_model(\"pretrained-model/imagenet-vgg-verydeep-19.mat\")"
      ],
      "execution_count": null,
      "outputs": []
    },
    {
      "cell_type": "markdown",
      "metadata": {
        "id": "q_a0VlG_DT40",
        "colab_type": "text"
      },
      "source": [
        "#### Content Cost\n",
        "1. Assign the content image to be the input to the VGG model.\n",
        "2. Set a_C to be the tensor giving the hidden layer activation for layer \"conv4_2\".\n",
        "3. Set a_G to be the tensor giving the hidden layer activation for the same layer. \n",
        "4. Compute the content cost using a_C and a_G.\n"
      ]
    },
    {
      "cell_type": "code",
      "metadata": {
        "id": "JHChJSdhDT41",
        "colab_type": "code",
        "colab": {}
      },
      "source": [
        "# Assign the content image to be the input of the VGG model.  \n",
        "sess.run(model['input'].assign(content_image))\n",
        "\n",
        "# Select the output tensor of layer conv4_2\n",
        "out = model['conv4_2']\n",
        "\n",
        "# Set a_C to be the hidden layer activation from the layer we have selected\n",
        "a_C = sess.run(out)\n",
        "\n",
        "# Set a_G to be the hidden layer activation from same layer. Here, a_G references model['conv4_2'] \n",
        "# and isn't evaluated yet. Later in the code, we'll assign the image G as the model input, so that\n",
        "# when we run the session, this will be the activations drawn from the appropriate layer, with G as input.\n",
        "a_G = out\n",
        "\n",
        "# Compute the content cost\n",
        "J_content = compute_content_cost(a_C, a_G)"
      ],
      "execution_count": null,
      "outputs": []
    },
    {
      "cell_type": "markdown",
      "metadata": {
        "id": "juz8XwVvDT44",
        "colab_type": "text"
      },
      "source": [
        "#### Style cost"
      ]
    },
    {
      "cell_type": "code",
      "metadata": {
        "id": "r1b9b-7tDT45",
        "colab_type": "code",
        "colab": {}
      },
      "source": [
        "# Assign the input of the model to be the \"style\" image \n",
        "sess.run(model['input'].assign(style_image))\n",
        "\n",
        "# Compute the style cost\n",
        "J_style = compute_style_cost(model, STYLE_LAYERS)"
      ],
      "execution_count": null,
      "outputs": []
    },
    {
      "cell_type": "markdown",
      "metadata": {
        "id": "t4QRXTOuDT48",
        "colab_type": "text"
      },
      "source": [
        "###total cost\n",
        "* Now that you have J_content and J_style, compute the total cost J by calling `total_cost()`. \n",
        "* Use `alpha = 10` and `beta = 40`."
      ]
    },
    {
      "cell_type": "code",
      "metadata": {
        "id": "RQbkAveuDT49",
        "colab_type": "code",
        "colab": {}
      },
      "source": [
        "### START CODE HERE ### (1 line)\n",
        "J = total_cost(J_content, J_style, alpha=10, beta= 40)\n",
        "### END CODE HERE ###"
      ],
      "execution_count": null,
      "outputs": []
    },
    {
      "cell_type": "markdown",
      "metadata": {
        "id": "VQQW5La3DT5D",
        "colab_type": "text"
      },
      "source": [
        "### Optimizer\n",
        "\n",
        "* Used the Adam optimizer to minimize the total cost `J`.\n",
        "* Used a learning rate of 2.0.  "
      ]
    },
    {
      "cell_type": "code",
      "metadata": {
        "id": "YO2uBvxPDT5E",
        "colab_type": "code",
        "colab": {}
      },
      "source": [
        "# define optimizer (1 line)\n",
        "optimizer = tf.train.AdamOptimizer(2.0)\n",
        "\n",
        "# define train_step (1 line)\n",
        "train_step = optimizer.minimize(J)"
      ],
      "execution_count": null,
      "outputs": []
    },
    {
      "cell_type": "markdown",
      "metadata": {
        "id": "8KR0Ka9zDT5J",
        "colab_type": "text"
      },
      "source": [
        "###implement the model\n",
        "\n",
        "* Implement the model_nn() function.  \n",
        "* The function **initializes** the variables of the tensorflow graph, \n",
        "* **assigns** the input image (initial generated image) as the input of the VGG19 model \n",
        "* and **runs** the `train_step` tensor (it was created in the code above this function) for a large number of steps."
      ]
    },
    {
      "cell_type": "code",
      "metadata": {
        "id": "8HkopiwPDT5J",
        "colab_type": "code",
        "colab": {}
      },
      "source": [
        "def model_nn(sess, input_image, num_iterations = 200):\n",
        "    \n",
        "    # Initialize global variables (you need to run the session on the initializer)\n",
        "    ### START CODE HERE ### (1 line)\n",
        "    None\n",
        "    ### END CODE HERE ###\n",
        "    \n",
        "    # Run the noisy input image (initial generated image) through the model. Use assign().\n",
        "    ### START CODE HERE ### (1 line)\n",
        "    None\n",
        "    ### END CODE HERE ###\n",
        "    \n",
        "    for i in range(num_iterations):\n",
        "    \n",
        "        # Run the session on the train_step to minimize the total cost\n",
        "        ### START CODE HERE ### (1 line)\n",
        "        None\n",
        "        ### END CODE HERE ###\n",
        "        \n",
        "        # Compute the generated image by running the session on the current model['input']\n",
        "        ### START CODE HERE ### (1 line)\n",
        "        generated_image = None\n",
        "        ### END CODE HERE ###\n",
        "\n",
        "        # Print every 20 iteration.\n",
        "        if i%20 == 0:\n",
        "            Jt, Jc, Js = sess.run([J, J_content, J_style])\n",
        "            print(\"Iteration \" + str(i) + \" :\")\n",
        "            print(\"total cost = \" + str(Jt))\n",
        "            print(\"content cost = \" + str(Jc))\n",
        "            print(\"style cost = \" + str(Js))\n",
        "            \n",
        "            # save current generated image in the \"/output\" directory\n",
        "            save_image(\"output/\" + str(i) + \".png\", generated_image)\n",
        "    \n",
        "    # save last generated image\n",
        "    save_image('output/generated_image.jpg', generated_image)\n",
        "    \n",
        "    return generated_image"
      ],
      "execution_count": null,
      "outputs": []
    },
    {
      "cell_type": "code",
      "metadata": {
        "scrolled": true,
        "id": "6fq0KwDIDT5O",
        "colab_type": "code",
        "colab": {}
      },
      "source": [
        "model_nn(sess, generated_image)"
      ],
      "execution_count": null,
      "outputs": []
    }
  ]
}